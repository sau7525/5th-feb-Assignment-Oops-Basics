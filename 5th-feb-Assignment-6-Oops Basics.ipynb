{
 "cells": [
  {
   "cell_type": "code",
   "execution_count": 1,
   "id": "e2e8224f-e174-4179-9071-ba56812db66c",
   "metadata": {},
   "outputs": [],
   "source": [
    "#ANS:1"
   ]
  },
  {
   "cell_type": "code",
   "execution_count": null,
   "id": "0bdacdd1-b7ab-4fd8-b570-f83d13331819",
   "metadata": {},
   "outputs": [],
   "source": [
    "Class: In object-oriented programming, a class is a blueprint or a template for creating objects (an instance of the class). It defines a set of attributes and behaviors that an object of that class will have. A class can be considered as a blueprint for the object or objects that can be created using it.\n",
    "\n",
    "Object: An object is an instance of a class. It is a real-world entity with attributes and behaviors that are defined by the class. An object has a state and a behavior, and it is created from a class. An object is also known as an instance of a class.\n",
    "\n",
    "Example: Let's consider a class called \"Car\". A Car class might have attributes such as color, make, model, and year, and behaviors such as start, stop, and drive. An object of the Car class would be a specific car, such as a red 2022 Toyota Corolla. The red 2022 Toyota Corolla would have the attributes of color (red), make (Toyota), model (Corolla), and year (2022), and it would be able to perform the behaviors start, stop, and drive."
   ]
  },
  {
   "cell_type": "code",
   "execution_count": 3,
   "id": "9f60bc95-b766-45b0-bbe0-bb95f3afa92b",
   "metadata": {},
   "outputs": [],
   "source": [
    "#ANS:2"
   ]
  },
  {
   "cell_type": "code",
   "execution_count": null,
   "id": "336537c9-cae4-44aa-a5cf-daf7dcab8ba9",
   "metadata": {},
   "outputs": [],
   "source": [
    "The four pillars of object-oriented programming (OOP) are:\n",
    "\n",
    "Abstraction: Abstraction refers to the practice of exposing only the relevant information and hiding the complexity of the implementation. It allows the user to focus on what the object does rather than how it does it.\n",
    "\n",
    "Encapsulation: Encapsulation is the mechanism of wrapping the data (variables) and functions that operate on that data within a single unit or object. This protects the data from accidental corruption and provides a secure way to access the data.\n",
    "\n",
    "Inheritance: Inheritance is a mechanism where a new class can be derived from an existing class. The derived class inherits all the attributes and behaviors of the parent class and can also have its own attributes and behaviors.\n",
    "\n",
    "Polymorphism: Polymorphism is the ability of an object to take on multiple forms. This is achieved in OOP by defining methods with the same name in different classes that are related by inheritance. When a method is called on an object, the correct implementation of that method is executed based on the object's actual class."
   ]
  },
  {
   "cell_type": "code",
   "execution_count": 4,
   "id": "67861783-a3a9-4a11-ab4c-f224315c507a",
   "metadata": {},
   "outputs": [],
   "source": [
    "#ANS:3"
   ]
  },
  {
   "cell_type": "code",
   "execution_count": 7,
   "id": "894e2f4e-93b8-4641-9f9e-8755ac24e874",
   "metadata": {},
   "outputs": [
    {
     "name": "stdout",
     "output_type": "stream",
     "text": [
      "Saurabh\n",
      "22\n"
     ]
    }
   ],
   "source": [
    "class Person:\n",
    "    def __init__(self, name, age):\n",
    "        self.name = name\n",
    "        self.age = age\n",
    "\n",
    "person = Person(\"Saurabh\", 22)\n",
    "print(person.name) \n",
    "print(person.age) "
   ]
  },
  {
   "cell_type": "code",
   "execution_count": 8,
   "id": "b5de782a-810c-4898-857a-b6d685030200",
   "metadata": {},
   "outputs": [],
   "source": [
    "#ANS:4"
   ]
  },
  {
   "cell_type": "code",
   "execution_count": 9,
   "id": "8d204047-bfd7-4a2f-81d6-bf9834ada178",
   "metadata": {},
   "outputs": [
    {
     "name": "stdout",
     "output_type": "stream",
     "text": [
      "Saurabh\n",
      "Ram\n"
     ]
    }
   ],
   "source": [
    "class Person:\n",
    "    def __init__(self, name, age):\n",
    "        self.name = name\n",
    "        self.age = age\n",
    "        \n",
    "    def set_name(self, name):\n",
    "        self.name = name\n",
    "        \n",
    "    def set_age(self, age):\n",
    "        self.age = age\n",
    "\n",
    "person = Person(\"Saurabh\", 22)\n",
    "print(person.name) \n",
    "person.set_name(\"Ram\")\n",
    "print(person.name) "
   ]
  },
  {
   "cell_type": "code",
   "execution_count": null,
   "id": "471737cd-fa7e-4c5b-a86d-f7f9be8abe7d",
   "metadata": {},
   "outputs": [],
   "source": [
    "#ANS:5"
   ]
  },
  {
   "cell_type": "code",
   "execution_count": null,
   "id": "267dcee3-6860-492b-baba-479003af2f46",
   "metadata": {},
   "outputs": [],
   "source": [
    "#Single inheritance: Single inheritance is a type of inheritance where a derived class inherits from a single base class.\n",
    "#Example:"
   ]
  },
  {
   "cell_type": "code",
   "execution_count": null,
   "id": "ac0e4c43-0ecb-4041-b663-d53c722ab84b",
   "metadata": {},
   "outputs": [
    {
     "name": "stdout",
     "output_type": "stream",
     "text": [
      "Dog\n",
      "4\n",
      "Bark\n"
     ]
    }
   ],
   "source": [
    "class Animal:\n",
    "    def __init__(self, species, legs):\n",
    "        self.species = species\n",
    "        self.legs = legs\n",
    "        \n",
    "    def make_sound(self):\n",
    "        print(\"Some animal sound\")\n",
    "        \n",
    "class Dog(Animal):\n",
    "    def __init__(self, breed):\n",
    "        Animal.__init__(self, \"Dog\", 4)\n",
    "        self.breed = breed\n",
    "        \n",
    "    def make_sound(self):\n",
    "        print(\"Bark\")\n",
    "        \n",
    "dog = Dog(\"Labrador\")\n",
    "print(dog.species) \n",
    "print(dog.legs) \n",
    "dog.make_sound()"
   ]
  },
  {
   "cell_type": "code",
   "execution_count": 11,
   "id": "aa367640-94ea-4ed4-9e6d-d538f7832f17",
   "metadata": {},
   "outputs": [],
   "source": [
    "#Multiple inheritance: Multiple inheritance is a type of inheritance where a derived class inherits from multiple base classes.\n",
    "#Example:"
   ]
  },
  {
   "cell_type": "code",
   "execution_count": 12,
   "id": "9ba3ec8d-b0ea-4f76-bfe5-2837b00ad01f",
   "metadata": {},
   "outputs": [
    {
     "name": "stdout",
     "output_type": "stream",
     "text": [
      "Dog\n",
      "4\n",
      "True\n",
      "Bark\n"
     ]
    }
   ],
   "source": [
    "class Animal:\n",
    "    def __init__(self, species, legs):\n",
    "        self.species = species\n",
    "        self.legs = legs\n",
    "        \n",
    "    def make_sound(self):\n",
    "        print(\"Some animal sound\")\n",
    "        \n",
    "class DomesticAnimal:\n",
    "    def __init__(self, domesticated):\n",
    "        self.domesticated = domesticated\n",
    "        \n",
    "class Dog(Animal, DomesticAnimal):\n",
    "    def __init__(self, breed):\n",
    "        Animal.__init__(self, \"Dog\", 4)\n",
    "        DomesticAnimal.__init__(self, True)\n",
    "        self.breed = breed\n",
    "        \n",
    "    def make_sound(self):\n",
    "        print(\"Bark\")\n",
    "        \n",
    "dog = Dog(\"Labrador\")\n",
    "print(dog.species) \n",
    "print(dog.legs) \n",
    "print(dog.domesticated) \n",
    "dog.make_sound()"
   ]
  },
  {
   "cell_type": "code",
   "execution_count": 13,
   "id": "073fd21c-9b0c-4146-9b9e-0d72a1ac34e1",
   "metadata": {},
   "outputs": [],
   "source": [
    "#Multi-level inheritance: Multi-level inheritance is a type of inheritance where a derived class inherits from a base class, which in turn inherits from another base class.\n",
    "#Example:"
   ]
  },
  {
   "cell_type": "code",
   "execution_count": 14,
   "id": "994100c8-e4b3-4afb-aeef-8bd4b89763a5",
   "metadata": {},
   "outputs": [
    {
     "name": "stdout",
     "output_type": "stream",
     "text": [
      "Mammal\n",
      "4\n"
     ]
    }
   ],
   "source": [
    "class Animal:\n",
    "    def __init__(self, species, legs):\n",
    "        self.species = species\n",
    "        self.legs = legs\n",
    "        \n",
    "    def make_sound(self):\n",
    "        print(\"Some animal sound\")\n",
    "        \n",
    "class Mammal(Animal):\n",
    "    def __init__(self, fur):\n",
    "        Animal.__init__(self, \"Mammal\", 4)\n",
    "        self.fur = fur\n",
    "        \n",
    "class Dog(Mammal):\n",
    "    def __init__(self, breed):\n",
    "        Mammal.__init__(self, True)\n",
    "        self.breed = breed\n",
    "        \n",
    "    def make_sound(self):\n",
    "        print(\"Bark\")\n",
    "        \n",
    "dog = Dog(\"Labrador\")\n",
    "print(dog.species) \n",
    "print(dog.legs)"
   ]
  },
  {
   "cell_type": "code",
   "execution_count": null,
   "id": "af915900-c332-4490-ad35-887ff7ba75c2",
   "metadata": {},
   "outputs": [],
   "source": []
  }
 ],
 "metadata": {
  "kernelspec": {
   "display_name": "Python 3 (ipykernel)",
   "language": "python",
   "name": "python3"
  },
  "language_info": {
   "codemirror_mode": {
    "name": "ipython",
    "version": 3
   },
   "file_extension": ".py",
   "mimetype": "text/x-python",
   "name": "python",
   "nbconvert_exporter": "python",
   "pygments_lexer": "ipython3",
   "version": "3.10.8"
  }
 },
 "nbformat": 4,
 "nbformat_minor": 5
}
